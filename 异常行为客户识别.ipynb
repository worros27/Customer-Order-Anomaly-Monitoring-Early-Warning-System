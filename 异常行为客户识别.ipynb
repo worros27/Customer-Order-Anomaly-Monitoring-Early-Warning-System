{
 "cells": [
  {
   "cell_type": "code",
   "execution_count": 1,
   "id": "749eac2a-61c7-4c9d-ae1b-ff4c51194e28",
   "metadata": {},
   "outputs": [],
   "source": [
    "import pandas as pd\n",
    "from sklearn.ensemble import IsolationForest\n",
    "\n",
    "# 1. 加载行为数据表（需包含：Name, Month, total_amount, order_count, sku_count 等）\n",
    "df = pd.read_csv('Cleaned_Monthly_Customer_Behavior.csv')\n",
    "df['Month'] = pd.to_datetime(df['Month'])\n",
    "\n",
    "# 2. 用 Isolation Forest 建模识别异常行为\n",
    "anomalies = []\n",
    "\n",
    "for customer, group in df.groupby('Name'):\n",
    "    if len(group) < 6:\n",
    "        continue  # 客户数据太少，跳过\n",
    "    \n",
    "    # 多维特征构建\n",
    "    features = group[['total_amount', 'order_count', 'sku_count']].fillna(0).values\n",
    "    \n",
    "    # 建模（20% 设为异常）\n",
    "    model = IsolationForest(contamination=0.2, random_state=42)\n",
    "    preds = model.fit_predict(features)\n",
    "    \n",
    "    group = group.copy()\n",
    "    group['anomaly'] = preds\n",
    "    group = group[group['anomaly'] == -1]  # -1 是异常点\n",
    "    \n",
    "    if not group.empty:\n",
    "        anomalies.append(group)\n",
    "\n",
    "# 3. 汇总结果\n",
    "df_anomaly = pd.concat(anomalies)\n",
    "df_anomaly.to_csv('anomaly_customers.csv', index=False)\n"
   ]
  },
  {
   "cell_type": "code",
   "execution_count": 2,
   "id": "246d0f1c-d0e7-4b6c-bf5e-489c7e9e27ec",
   "metadata": {},
   "outputs": [
    {
     "name": "stdout",
     "output_type": "stream",
     "text": [
      "anomaly\n",
      " 1    0.785021\n",
      "-1    0.214979\n",
      "Name: proportion, dtype: float64\n"
     ]
    }
   ],
   "source": [
    "# 记录每个客户的异常比例\n",
    "all_results = []\n",
    "\n",
    "for customer, group in df.groupby('Name'):\n",
    "    if len(group) < 6:\n",
    "        continue\n",
    "\n",
    "    X = group[['total_amount', 'order_count', 'sku_count']].fillna(0).values\n",
    "    model = IsolationForest(contamination=0.2, random_state=42)\n",
    "    preds = model.fit_predict(X)\n",
    "\n",
    "    group = group.copy()\n",
    "    group['anomaly'] = preds\n",
    "    all_results.append(group)\n",
    "\n",
    "df_all = pd.concat(all_results)\n",
    "\n",
    "# 查看整体异常率\n",
    "print(df_all['anomaly'].value_counts(normalize=True))\n"
   ]
  },
  {
   "cell_type": "code",
   "execution_count": null,
   "id": "d2fc20b1-75a2-4a36-9cc6-ce7b875d7acc",
   "metadata": {},
   "outputs": [],
   "source": []
  }
 ],
 "metadata": {
  "kernelspec": {
   "display_name": "Python [conda env:base] *",
   "language": "python",
   "name": "conda-base-py"
  },
  "language_info": {
   "codemirror_mode": {
    "name": "ipython",
    "version": 3
   },
   "file_extension": ".py",
   "mimetype": "text/x-python",
   "name": "python",
   "nbconvert_exporter": "python",
   "pygments_lexer": "ipython3",
   "version": "3.13.5"
  }
 },
 "nbformat": 4,
 "nbformat_minor": 5
}
