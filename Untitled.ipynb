{
 "cells": [
  {
   "cell_type": "code",
   "execution_count": 4,
   "id": "73dbed22-5263-44f0-a76e-90bda994fc60",
   "metadata": {},
   "outputs": [
    {
     "data": {
      "text/html": [
       "<div>\n",
       "<style scoped>\n",
       "    .dataframe tbody tr th:only-of-type {\n",
       "        vertical-align: middle;\n",
       "    }\n",
       "\n",
       "    .dataframe tbody tr th {\n",
       "        vertical-align: top;\n",
       "    }\n",
       "\n",
       "    .dataframe thead th {\n",
       "        text-align: right;\n",
       "    }\n",
       "</style>\n",
       "<table border=\"1\" class=\"dataframe\">\n",
       "  <thead>\n",
       "    <tr style=\"text-align: right;\">\n",
       "      <th></th>\n",
       "      <th>Name</th>\n",
       "    </tr>\n",
       "  </thead>\n",
       "  <tbody>\n",
       "    <tr>\n",
       "      <th>0</th>\n",
       "      <td>American KGP Inc.</td>\n",
       "    </tr>\n",
       "    <tr>\n",
       "      <th>1</th>\n",
       "      <td>Bar Chelou</td>\n",
       "    </tr>\n",
       "    <tr>\n",
       "      <th>2</th>\n",
       "      <td>Bnai David Judea Congregation</td>\n",
       "    </tr>\n",
       "    <tr>\n",
       "      <th>3</th>\n",
       "      <td>Bostons Best Coffee</td>\n",
       "    </tr>\n",
       "  </tbody>\n",
       "</table>\n",
       "</div>"
      ],
      "text/plain": [
       "                            Name\n",
       "0              American KGP Inc.\n",
       "1                     Bar Chelou\n",
       "2  Bnai David Judea Congregation\n",
       "3            Bostons Best Coffee"
      ]
     },
     "execution_count": 4,
     "metadata": {},
     "output_type": "execute_result"
    }
   ],
   "source": [
    "import pandas as pd\n",
    "\n",
    "# Step 1: 读取原始订单数据（注意字段名和格式）\n",
    "df = pd.read_csv('Sales_Customor_detail.CSV', encoding='latin1')\n",
    "df['Date'] = pd.to_datetime(df['Date'], errors='coerce')\n",
    "df = df.dropna(subset=['Date'])\n",
    "df = df[df['Amount'] > 0]  # 只保留有效订单\n",
    "\n",
    "# Step 2: 提取月份信息\n",
    "df['YearMonth'] = df['Date'].dt.to_period('M')\n",
    "\n",
    "# Step 3: 统计每个客户在哪些月份有下单\n",
    "customer_months = df.groupby('Name')['YearMonth'].apply(set)\n",
    "\n",
    "# Step 4: 找出最新的 2 个月\n",
    "latest_month = df['YearMonth'].max()\n",
    "prev_month = latest_month - 1\n",
    "recent_months = {latest_month, prev_month}\n",
    "\n",
    "# Step 5: 筛选满足：\n",
    "# - 总共下单月份 ≥ 12\n",
    "# - 最近两个月都未出现\n",
    "at_risk = []\n",
    "for name, months in customer_months.items():\n",
    "    if len(months) >= 12 and not (recent_months & months):\n",
    "        at_risk.append(name)\n",
    "\n",
    "# Step 6: 输出结果\n",
    "df_risk = pd.DataFrame({'Name': at_risk})\n",
    "df_risk.to_csv('at_risk_customers.csv', index=False)\n",
    "df_risk.head()\n"
   ]
  },
  {
   "cell_type": "code",
   "execution_count": null,
   "id": "2dcb34ae-bab8-4e03-ba1d-a9420e7facd0",
   "metadata": {},
   "outputs": [],
   "source": []
  }
 ],
 "metadata": {
  "kernelspec": {
   "display_name": "Python [conda env:base] *",
   "language": "python",
   "name": "conda-base-py"
  },
  "language_info": {
   "codemirror_mode": {
    "name": "ipython",
    "version": 3
   },
   "file_extension": ".py",
   "mimetype": "text/x-python",
   "name": "python",
   "nbconvert_exporter": "python",
   "pygments_lexer": "ipython3",
   "version": "3.13.5"
  }
 },
 "nbformat": 4,
 "nbformat_minor": 5
}
