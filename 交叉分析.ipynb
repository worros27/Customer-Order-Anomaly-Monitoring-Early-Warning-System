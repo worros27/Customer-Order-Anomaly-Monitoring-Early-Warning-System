{
 "cells": [
  {
   "cell_type": "code",
   "execution_count": 1,
   "id": "ec3e4ba4-0f21-4791-927a-8203400ef87f",
   "metadata": {},
   "outputs": [
    {
     "data": {
      "text/html": [
       "<div>\n",
       "<style scoped>\n",
       "    .dataframe tbody tr th:only-of-type {\n",
       "        vertical-align: middle;\n",
       "    }\n",
       "\n",
       "    .dataframe tbody tr th {\n",
       "        vertical-align: top;\n",
       "    }\n",
       "\n",
       "    .dataframe thead th {\n",
       "        text-align: right;\n",
       "    }\n",
       "</style>\n",
       "<table border=\"1\" class=\"dataframe\">\n",
       "  <thead>\n",
       "    <tr style=\"text-align: right;\">\n",
       "      <th></th>\n",
       "      <th>Name</th>\n",
       "      <th>Tag</th>\n",
       "    </tr>\n",
       "  </thead>\n",
       "  <tbody>\n",
       "    <tr>\n",
       "      <th>0</th>\n",
       "      <td>Bar Chelou</td>\n",
       "      <td>both</td>\n",
       "    </tr>\n",
       "    <tr>\n",
       "      <th>1</th>\n",
       "      <td>American KGP Inc.</td>\n",
       "      <td>both</td>\n",
       "    </tr>\n",
       "    <tr>\n",
       "      <th>2</th>\n",
       "      <td>Bnai David Judea Congregation</td>\n",
       "      <td>both</td>\n",
       "    </tr>\n",
       "    <tr>\n",
       "      <th>3</th>\n",
       "      <td>Bostons Best Coffee</td>\n",
       "      <td>both</td>\n",
       "    </tr>\n",
       "    <tr>\n",
       "      <th>4</th>\n",
       "      <td>Burgers Never Say Die</td>\n",
       "      <td>anomaly_only</td>\n",
       "    </tr>\n",
       "  </tbody>\n",
       "</table>\n",
       "</div>"
      ],
      "text/plain": [
       "                            Name           Tag\n",
       "0                     Bar Chelou          both\n",
       "1              American KGP Inc.          both\n",
       "2  Bnai David Judea Congregation          both\n",
       "3            Bostons Best Coffee          both\n",
       "4          Burgers Never Say Die  anomaly_only"
      ]
     },
     "execution_count": 1,
     "metadata": {},
     "output_type": "execute_result"
    }
   ],
   "source": [
    "import pandas as pd\n",
    "\n",
    "# 读取两个列表\n",
    "df_anomaly = pd.read_csv(\"anomaly_customers.csv\")\n",
    "df_risk = pd.read_csv(\"at_risk_customers.csv\")\n",
    "\n",
    "# 标注标签\n",
    "anomaly_names = set(df_anomaly['Name'].unique())\n",
    "risk_names = set(df_risk['Name'].unique())\n",
    "\n",
    "both = anomaly_names & risk_names\n",
    "only_anomaly = anomaly_names - risk_names\n",
    "only_risk = risk_names - anomaly_names\n",
    "\n",
    "# 整合结果\n",
    "combined = pd.DataFrame([\n",
    "    {'Name': name, 'Tag': 'both'} for name in both\n",
    "] + [\n",
    "    {'Name': name, 'Tag': 'anomaly_only'} for name in only_anomaly\n",
    "] + [\n",
    "    {'Name': name, 'Tag': 'at_risk_only'} for name in only_risk\n",
    "])\n",
    "\n",
    "combined.to_csv('customer_behavior_tags.csv', index=False)\n",
    "combined.head()\n"
   ]
  },
  {
   "cell_type": "code",
   "execution_count": null,
   "id": "785d2def-d2e2-4144-ae33-3e9ac4f1c9f8",
   "metadata": {},
   "outputs": [],
   "source": []
  }
 ],
 "metadata": {
  "kernelspec": {
   "display_name": "Python [conda env:base] *",
   "language": "python",
   "name": "conda-base-py"
  },
  "language_info": {
   "codemirror_mode": {
    "name": "ipython",
    "version": 3
   },
   "file_extension": ".py",
   "mimetype": "text/x-python",
   "name": "python",
   "nbconvert_exporter": "python",
   "pygments_lexer": "ipython3",
   "version": "3.13.5"
  }
 },
 "nbformat": 4,
 "nbformat_minor": 5
}
